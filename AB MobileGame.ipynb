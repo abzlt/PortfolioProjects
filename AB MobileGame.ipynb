{
 "cells": [
  {
   "cell_type": "code",
   "execution_count": 1,
   "id": "bbc0e691",
   "metadata": {},
   "outputs": [],
   "source": [
    "#!pip install statsmodels\n",
    "import itertools\n",
    "import numpy as np\n",
    "import pandas as pd\n",
    "import matplotlib.pyplot as plt\n",
    "import seaborn as sns\n",
    "sns.set_style('whitegrid')\n",
    "palette = 'Set2'\n",
    "import warnings\n",
    "warnings.filterwarnings(\"ignore\")\n",
    "warnings.simplefilter(action='ignore', category=FutureWarning)\n",
    "import statsmodels.stats.api as sms\n",
    "from scipy.stats import ttest_1samp, shapiro, levene, ttest_ind, mannwhitneyu, \\\n",
    "    pearsonr, spearmanr, kendalltau, f_oneway, kruskal, normaltest\n",
    "from statsmodels.stats.proportion import proportions_ztest\n",
    "\n",
    "pd.set_option('display.max_columns', None)\n",
    "pd.set_option('display.max_rows', 20)\n",
    "pd.set_option('display.width', 180)\n",
    "pd.set_option('display.float_format', lambda x: '%.5f' % x)"
   ]
  },
  {
   "cell_type": "code",
   "execution_count": 7,
   "id": "eda736d4",
   "metadata": {},
   "outputs": [
    {
     "data": {
      "text/html": [
       "<div>\n",
       "<style scoped>\n",
       "    .dataframe tbody tr th:only-of-type {\n",
       "        vertical-align: middle;\n",
       "    }\n",
       "\n",
       "    .dataframe tbody tr th {\n",
       "        vertical-align: top;\n",
       "    }\n",
       "\n",
       "    .dataframe thead th {\n",
       "        text-align: right;\n",
       "    }\n",
       "</style>\n",
       "<table border=\"1\" class=\"dataframe\">\n",
       "  <thead>\n",
       "    <tr style=\"text-align: right;\">\n",
       "      <th></th>\n",
       "      <th>userid</th>\n",
       "      <th>version</th>\n",
       "      <th>sum_gamerounds</th>\n",
       "      <th>retention_1</th>\n",
       "      <th>retention_7</th>\n",
       "    </tr>\n",
       "  </thead>\n",
       "  <tbody>\n",
       "    <tr>\n",
       "      <th>0</th>\n",
       "      <td>116</td>\n",
       "      <td>gate_30</td>\n",
       "      <td>3</td>\n",
       "      <td>False</td>\n",
       "      <td>False</td>\n",
       "    </tr>\n",
       "    <tr>\n",
       "      <th>1</th>\n",
       "      <td>337</td>\n",
       "      <td>gate_30</td>\n",
       "      <td>38</td>\n",
       "      <td>True</td>\n",
       "      <td>False</td>\n",
       "    </tr>\n",
       "    <tr>\n",
       "      <th>2</th>\n",
       "      <td>377</td>\n",
       "      <td>gate_40</td>\n",
       "      <td>165</td>\n",
       "      <td>True</td>\n",
       "      <td>False</td>\n",
       "    </tr>\n",
       "    <tr>\n",
       "      <th>3</th>\n",
       "      <td>483</td>\n",
       "      <td>gate_40</td>\n",
       "      <td>1</td>\n",
       "      <td>False</td>\n",
       "      <td>False</td>\n",
       "    </tr>\n",
       "    <tr>\n",
       "      <th>4</th>\n",
       "      <td>488</td>\n",
       "      <td>gate_40</td>\n",
       "      <td>179</td>\n",
       "      <td>True</td>\n",
       "      <td>True</td>\n",
       "    </tr>\n",
       "  </tbody>\n",
       "</table>\n",
       "</div>"
      ],
      "text/plain": [
       "   userid  version  sum_gamerounds  retention_1  retention_7\n",
       "0     116  gate_30               3        False        False\n",
       "1     337  gate_30              38         True        False\n",
       "2     377  gate_40             165         True        False\n",
       "3     483  gate_40               1        False        False\n",
       "4     488  gate_40             179         True         True"
      ]
     },
     "execution_count": 7,
     "metadata": {},
     "output_type": "execute_result"
    }
   ],
   "source": [
    "df = pd.read_csv('/Users/Ilya/cookie_cats.csv')\n",
    "df.head()"
   ]
  },
  {
   "cell_type": "code",
   "execution_count": 8,
   "id": "91227c9a",
   "metadata": {},
   "outputs": [
    {
     "name": "stdout",
     "output_type": "stream",
     "text": [
      "~~~~~~~~~~~~~~~~~~~~~~~~~~~~~~~~~~~~~~~~~ SHAPE ~~~~~~~~~~~~~~~~~~~~~~~~~~~~~~~~~~~~~~~~~~\n",
      "Rows: 90189\n",
      "Columns: 5\n",
      "~~~~~~~~~~~~~~~~~~~~~~~~~~~~~~~~~~~~~~~~~ TYPES ~~~~~~~~~~~~~~~~~~~~~~~~~~~~~~~~~~~~~~~~~~\n",
      "userid             int64\n",
      "version           object\n",
      "sum_gamerounds     int64\n",
      "retention_1         bool\n",
      "retention_7         bool\n",
      "dtype: object\n",
      "~~~~~~~~~~~~~~~~~~~~~~~~~~~~~~~~~~~~~~~~~~ HEAD ~~~~~~~~~~~~~~~~~~~~~~~~~~~~~~~~~~~~~~~~~~\n",
      "   userid  version  sum_gamerounds  retention_1  retention_7\n",
      "0     116  gate_30               3        False        False\n",
      "1     337  gate_30              38         True        False\n",
      "2     377  gate_40             165         True        False\n",
      "3     483  gate_40               1        False        False\n",
      "4     488  gate_40             179         True         True\n",
      "~~~~~~~~~~~~~~~~~~~~~~~~~~~~~~~~~~~~~~~~~~ TAIL ~~~~~~~~~~~~~~~~~~~~~~~~~~~~~~~~~~~~~~~~~~\n",
      "        userid  version  sum_gamerounds  retention_1  retention_7\n",
      "90184  9999441  gate_40              97         True        False\n",
      "90185  9999479  gate_40              30        False        False\n",
      "90186  9999710  gate_30              28         True        False\n",
      "90187  9999768  gate_40              51         True        False\n",
      "90188  9999861  gate_40              16        False        False\n",
      "~~~~~~~~~~~~~~~~~~~~~~~~~~~~~~~~~~~~~ MISSING VALUES ~~~~~~~~~~~~~~~~~~~~~~~~~~~~~~~~~~~~~\n",
      "userid            0\n",
      "version           0\n",
      "sum_gamerounds    0\n",
      "retention_1       0\n",
      "retention_7       0\n",
      "dtype: int64\n",
      "~~~~~~~~~~~~~~~~~~~~~~~~~~~~~~~~~~~ DUPLICATED VALUES ~~~~~~~~~~~~~~~~~~~~~~~~~~~~~~~~~~~~\n",
      "0\n",
      "~~~~~~~~~~~~~~~~~~~~~~~~~~~~~~~~~~~~~~~~ DESCRIBE ~~~~~~~~~~~~~~~~~~~~~~~~~~~~~~~~~~~~~~~~\n",
      "                     count          mean           std       min           25%           50%           75%           max\n",
      "userid         90189.00000 4998412.23450 2883285.60770 116.00000 2512230.00000 4995815.00000 7496452.00000 9999861.00000\n",
      "sum_gamerounds 90189.00000      51.87246     195.05086   0.00000       5.00000      16.00000      51.00000   49854.00000\n"
     ]
    }
   ],
   "source": [
    "def check_df(dataframe, head=5):\n",
    "    print(\" SHAPE \".center(90,'~'))\n",
    "    print('Rows: {}'.format(dataframe.shape[0]))\n",
    "    print('Columns: {}'.format(dataframe.shape[1]))\n",
    "    print(\" TYPES \".center(90,'~'))\n",
    "    print(dataframe.dtypes)\n",
    "    print(\" HEAD \".center(90,'~'))\n",
    "    print(dataframe.head(head))\n",
    "    print(\" TAIL \".center(90,'~'))\n",
    "    print(dataframe.tail(head))\n",
    "    print(\" MISSING VALUES \".center(90,'~'))\n",
    "    print(dataframe.isnull().sum())\n",
    "    print(\" DUPLICATED VALUES \".center(90,'~'))\n",
    "    print(dataframe.duplicated().sum())\n",
    "    print(\" DESCRIBE \".center(90,'~'))\n",
    "    print(dataframe.describe().T)\n",
    "    \n",
    "check_df(df)"
   ]
  },
  {
   "cell_type": "code",
   "execution_count": 11,
   "id": "967ac90b",
   "metadata": {},
   "outputs": [
    {
     "data": {
      "image/png": "[encoded data removed]",
      "text/plain": [
       "<Figure size 432x288 with 1 Axes>"
      ]
     },
     "metadata": {},
     "output_type": "display_data"
    }
   ],
   "source": [
    "#Let's see the graph for better understanding.\n",
    "df.groupby(\"version\")[\"userid\"].count()\n",
    "sns.countplot(x=\"version\",data=df);"
   ]
  },
  {
   "cell_type": "code",
   "execution_count": 12,
   "id": "c4a02fdc",
   "metadata": {},
   "outputs": [
    {
     "data": {
      "text/html": [
       "<div>\n",
       "<style scoped>\n",
       "    .dataframe tbody tr th:only-of-type {\n",
       "        vertical-align: middle;\n",
       "    }\n",
       "\n",
       "    .dataframe tbody tr th {\n",
       "        vertical-align: top;\n",
       "    }\n",
       "\n",
       "    .dataframe thead tr th {\n",
       "        text-align: left;\n",
       "    }\n",
       "</style>\n",
       "<table border=\"1\" class=\"dataframe\">\n",
       "  <thead>\n",
       "    <tr>\n",
       "      <th></th>\n",
       "      <th>version</th>\n",
       "      <th colspan=\"2\" halign=\"left\">sum_gamerounds</th>\n",
       "    </tr>\n",
       "    <tr>\n",
       "      <th></th>\n",
       "      <th></th>\n",
       "      <th>count</th>\n",
       "      <th>mean</th>\n",
       "    </tr>\n",
       "  </thead>\n",
       "  <tbody>\n",
       "    <tr>\n",
       "      <th>0</th>\n",
       "      <td>gate_30</td>\n",
       "      <td>44700</td>\n",
       "      <td>52.45626</td>\n",
       "    </tr>\n",
       "    <tr>\n",
       "      <th>1</th>\n",
       "      <td>gate_40</td>\n",
       "      <td>45489</td>\n",
       "      <td>51.29878</td>\n",
       "    </tr>\n",
       "  </tbody>\n",
       "</table>\n",
       "</div>"
      ],
      "text/plain": [
       "   version sum_gamerounds         \n",
       "                    count     mean\n",
       "0  gate_30          44700 52.45626\n",
       "1  gate_40          45489 51.29878"
      ]
     },
     "execution_count": 12,
     "metadata": {},
     "output_type": "execute_result"
    }
   ],
   "source": [
    "df.groupby('version').agg({\"sum_gamerounds\": [\"count\", \"mean\"]}).reset_index()"
   ]
  },
  {
   "cell_type": "code",
   "execution_count": 13,
   "id": "768f4a3b",
   "metadata": {},
   "outputs": [
    {
     "data": {
      "image/png": "[encoded data removed]",
      "text/plain": [
       "<Figure size 432x288 with 1 Axes>"
      ]
     },
     "metadata": {},
     "output_type": "display_data"
    }
   ],
   "source": [
    "df.groupby(\"version\")[\"sum_gamerounds\"].mean()\n",
    "df.groupby(\"version\")[\"sum_gamerounds\"].mean().plot(kind=\"bar\", color=[ \"salmon\", \"yellowgreen\"]);\n",
    "\n",
    "plt.ylabel(\"Mean of gamerounds\");"
   ]
  },
  {
   "cell_type": "code",
   "execution_count": 14,
   "id": "6f99876d",
   "metadata": {},
   "outputs": [
    {
     "data": {
      "text/plain": [
       "count   90189.00000\n",
       "mean       51.87246\n",
       "std       195.05086\n",
       "min         0.00000\n",
       "25%         5.00000\n",
       "50%        16.00000\n",
       "75%        51.00000\n",
       "max     49854.00000\n",
       "Name: sum_gamerounds, dtype: float64"
      ]
     },
     "execution_count": 14,
     "metadata": {},
     "output_type": "execute_result"
    }
   ],
   "source": [
    "#Before the outlier value\n",
    "df.sum_gamerounds.describe()"
   ]
  },
  {
   "cell_type": "code",
   "execution_count": 15,
   "id": "5c83dfab",
   "metadata": {},
   "outputs": [
    {
     "data": {
      "image/png": "[encoded data removed]",
      "text/plain": [
       "<Figure size 432x288 with 1 Axes>"
      ]
     },
     "metadata": {},
     "output_type": "display_data"
    }
   ],
   "source": [
    "#There is a outlier value in \"gate_30\".\n",
    "sns.boxplot(data=df, x=\"version\", y=\"sum_gamerounds\", flierprops={\"marker\": \"x\"}, width=1.0, fliersize=10);"
   ]
  },
  {
   "cell_type": "code",
   "execution_count": 18,
   "id": "31a276d0",
   "metadata": {},
   "outputs": [],
   "source": [
    "# let's write a function to get rid of the outlier values.\n",
    "def outlier_thresholds(dataframe, variable):\n",
    "    quartile1 = dataframe[variable].quantile(0.01)\n",
    "    quartile3 = dataframe[variable].quantile(0.99)\n",
    "    interquantile_range = quartile3 - quartile1\n",
    "    up_limit = quartile3 + 1.5 * interquantile_range\n",
    "    low_limit = quartile1 - 1.5 * interquantile_range\n",
    "    return low_limit, up_limit\n",
    "\n",
    "def replace_with_thresholds(dataframe, variable):\n",
    "    low_limit, up_limit = outlier_thresholds(dataframe, variable)\n",
    "    dataframe.loc[(dataframe[variable] > up_limit), variable] = up_limit"
   ]
  },
  {
   "cell_type": "code",
   "execution_count": 19,
   "id": "bfdb1015",
   "metadata": {},
   "outputs": [],
   "source": [
    "replace_with_thresholds(df, \"sum_gamerounds\")"
   ]
  },
  {
   "cell_type": "code",
   "execution_count": 20,
   "id": "ce15ee20",
   "metadata": {},
   "outputs": [
    {
     "data": {
      "text/plain": [
       "count   90189.00000\n",
       "mean       51.10922\n",
       "std        99.31228\n",
       "min         0.00000\n",
       "25%         5.00000\n",
       "50%        16.00000\n",
       "75%        51.00000\n",
       "max      1232.50000\n",
       "Name: sum_gamerounds, dtype: float64"
      ]
     },
     "execution_count": 20,
     "metadata": {},
     "output_type": "execute_result"
    }
   ],
   "source": [
    "#After  removing the outlier value\n",
    "df.sum_gamerounds.describe()"
   ]
  },
  {
   "cell_type": "code",
   "execution_count": 21,
   "id": "96a351dc",
   "metadata": {},
   "outputs": [
    {
     "data": {
      "image/png": "[encoded data removed]",
      "text/plain": [
       "<Figure size 432x288 with 1 Axes>"
      ]
     },
     "metadata": {},
     "output_type": "display_data"
    }
   ],
   "source": [
    "#I saw more logical graph.\n",
    "sns.boxplot(data=df, x=\"version\", y=\"sum_gamerounds\", flierprops={\"marker\": \"x\"}, width=0.8, fliersize=10);"
   ]
  },
  {
   "cell_type": "markdown",
   "id": "8c3bd3de",
   "metadata": {},
   "source": [
    "# A/B Testing.\n",
    "\n",
    "1.Establish the Hypothesis\n",
    "H0: M1 = M2\n",
    "H1: M1 != M2\n",
    "In this case,\n",
    "\n",
    "H0: M1 = M2 --- There is no statistical difference between the gate_30 and the gate_40.\n",
    "\n",
    "H1: M1 != M2 -- There is statistical difference between the gate_30 and the gate_40.\n",
    "\n",
    "2. Assumption Check\n",
    "It may be helpful to perform outlier analysis and correction before testing for normality.\n",
    "Normality Assumption (Shapiro Test)\n",
    "\n",
    "H0: Distribution is Normal\n",
    "H1: Distribution is not Normal\n",
    "p-value check\n",
    "\n",
    "p-value < 0.05 : H0 is rejected\n",
    "p-value > 0.05 : H0 can't rejected\n",
    "Variance Homogeneity (Levene Test)\n",
    "\n",
    "H0: Variance is homogeneous\n",
    "H1: Variance is not homogeneous\n",
    "\n",
    "3. Implementation of the Hypothesis\n",
    "If the distribution is Normal and the variances are Homogeneous; apply the T-Test (parametric test)\n",
    "If the distribution is Normal and the variances are not Homogeneous; apply Welch Test\n",
    "If the distribution is not Normal; apply Mann Whitney U Test directly (non-parametric test)\n",
    "\n",
    "4.Interpret results based on p-value and evaluate the the Hypothesis\n",
    "p-value < 0.05 : H0 is rejected\n",
    "p-value > 0.05 : H0 can't rejected"
   ]
  },
  {
   "cell_type": "code",
   "execution_count": 22,
   "id": "bd662d74",
   "metadata": {},
   "outputs": [
    {
     "name": "stdout",
     "output_type": "stream",
     "text": [
      "        sum_gamerounds         \n",
      "                 count     mean\n",
      "version                        \n",
      "gate_30          44700 51.15342\n",
      "gate_40          45489 51.06579\n",
      "********************NORMAL DISTRIBUTION ASSUMPTION********************\n",
      "p-value_gate30 = 0.00000\n",
      "p-value_gate40 = 0.00000\n",
      "Normality H0 is rejected.\n",
      "\n",
      "\n",
      "*******************VARIANCE HOMOGENEOUS ASSUMPTION *******************\n",
      "p_value_levene = 0.83018\n",
      "Variance Homogeneity H0 is not rejected.\n",
      "\n",
      "Non-Parametric test should be done.\n",
      "\n",
      "\n",
      "p_value = 0.05021\n",
      "******************************* RESULT *******************************\n",
      "p-value > 0.05 H0 is Not Rejected, That is, there is no statistically significant difference between them. The difference was made by chance.\n"
     ]
    }
   ],
   "source": [
    "def AB_Test(df, pthres=0.05):\n",
    "    \n",
    "    # H0:  There is no statistical difference between the gate_30 and the gate_40.\n",
    "    \n",
    "    print(df.groupby('version').agg({\"sum_gamerounds\": [\"count\", \"mean\"]}))\n",
    "\n",
    "    print(\"NORMAL DISTRIBUTION ASSUMPTION\" .center(70,\"*\"))\n",
    "    \n",
    "    # H0 : The compared groups have a normal distribution\n",
    "    \n",
    "    pvalue_gate_30 = shapiro([df[\"version\"] == \"gate_30\"])[1]\n",
    "    pvalue_gate_40 = shapiro([df[\"version\"] == \"gate_40\"])[1]\n",
    "    \n",
    "    print('p-value_gate30 = %.5f' % (pvalue_gate_30))\n",
    "    print('p-value_gate40 = %.5f' % (pvalue_gate_40))\n",
    "\n",
    "    if (pvalue_gate_30 < pthres) & (pvalue_gate_40 < pthres):\n",
    "        print(\"Normality H0 is rejected.\\n\\n\")\n",
    "    else:\n",
    "        print(\"Normality H0 is not rejected.\\n\")\n",
    "\n",
    "    print(\"VARIANCE HOMOGENEOUS ASSUMPTION \".center(70,\"*\"))\n",
    "    \n",
    "    # H0 : The variance of compared groups is homegenous.\n",
    "    \n",
    "    p_value_levene = levene(df.loc[df[\"version\"] == \"gate_30\", \"sum_gamerounds\"],\n",
    "                            df.loc[df[\"version\"] == \"gate_40\", \"sum_gamerounds\"])[1]\n",
    "    \n",
    "    print('p_value_levene = %.5f' % p_value_levene)\n",
    "\n",
    "    if p_value_levene < pthres:\n",
    "        print(\"Variance Homogeneity H0 is rejected.\\n\")\n",
    "    else:\n",
    "        print(\"Variance Homogeneity H0 is not rejected.\\n\")\n",
    "\n",
    "    if ((pvalue_gate_30 > pthres) & (pvalue_gate_40 > pthres)) & (p_value_levene > pthres):\n",
    "        p_value_ttest = ttest_ind(df.loc[df[\"version\"] == \"gate_30\"],\n",
    "                                  df.loc[df[\"version\"] == \"gate_40\"],\n",
    "                                  equal_var=True)[1]\n",
    "        \n",
    "        print('p_value_ttest = %.5f' % p_value_ttest)\n",
    "\n",
    "    elif ((pvalue_gate_30 > pthres) & (pvalue_gate_40 > pthres)) & (p_value_levene < pthres):\n",
    "        p_value_ttest = ttest_ind(df.loc[df[\"version\"] == \"gate_30\"],\n",
    "                                  df.loc[df[\"version\"] == \"gate_40\"],\n",
    "                                  equal_var=False)[1]\n",
    "        \n",
    "        print('p_value_ttest = %.5f' % p_value_ttest)\n",
    "    else:\n",
    "        print(\"Non-Parametric test should be done.\\n\\n\")\n",
    "        pvalue = mannwhitneyu(df.loc[df[\"version\"] == \"gate_30\", \"sum_gamerounds\"],\n",
    "                              df.loc[df[\"version\"] == \"gate_40\", \"sum_gamerounds\"])[1]\n",
    "        \n",
    "        print('p_value = %.5f' % pvalue)\n",
    "\n",
    "    print(\" RESULT \".center(70,\"*\"))\n",
    "\n",
    "    if pvalue < pthres:\n",
    "        print(\n",
    "            f\"p-value {round(pvalue, 5)} < 0.05  H0 Hypothesis is Rejected. That is, there is a statistically significant difference between them.\")\n",
    "\n",
    "    else:\n",
    "        print(\n",
    "            f\"p-value > {pthres} H0 is Not Rejected, That is, there is no statistically significant difference between them. The difference was made by chance.\")\n",
    "AB_Test(df,0.05)"
   ]
  },
  {
   "cell_type": "markdown",
   "id": "4d8e9901",
   "metadata": {},
   "source": [
    "# Conclusion.\n",
    "\n",
    "There is no statistically significant difference between the \"gate_30\" and the \"gate_40\". The difference was made by chance.\n",
    "Therefore, The company should keep using gate_30 because we have statistical evidence with 95% confidence."
   ]
  }
 ],
 "metadata": {
  "kernelspec": {
   "display_name": "Python 3 (ipykernel)",
   "language": "python",
   "name": "python3"
  },
  "language_info": {
   "codemirror_mode": {
    "name": "ipython",
    "version": 3
   },
   "file_extension": ".py",
   "mimetype": "text/x-python",
   "name": "python",
   "nbconvert_exporter": "python",
   "pygments_lexer": "ipython3",
   "version": "3.9.7"
  }
 },
 "nbformat": 4,
 "nbformat_minor": 5
}
