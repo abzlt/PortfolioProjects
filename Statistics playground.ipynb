{
 "cells": [
  {
   "cell_type": "code",
   "execution_count": 10,
   "id": "3e786f57",
   "metadata": {},
   "outputs": [],
   "source": [
    "import pandas as pd\n",
    "import numpy as np"
   ]
  },
  {
   "cell_type": "code",
   "execution_count": 17,
   "id": "6b17a4b6",
   "metadata": {},
   "outputs": [],
   "source": [
    "df = pd.read_csv(r'C:\\Users\\Ilya\\Desktop\\Pyth\\age_children_income_1000.csv')"
   ]
  },
  {
   "cell_type": "code",
   "execution_count": 15,
   "id": "a82c73c3",
   "metadata": {
    "scrolled": true
   },
   "outputs": [
    {
     "data": {
      "text/html": [
       "<div>\n",
       "<style scoped>\n",
       "    .dataframe tbody tr th:only-of-type {\n",
       "        vertical-align: middle;\n",
       "    }\n",
       "\n",
       "    .dataframe tbody tr th {\n",
       "        vertical-align: top;\n",
       "    }\n",
       "\n",
       "    .dataframe thead th {\n",
       "        text-align: right;\n",
       "    }\n",
       "</style>\n",
       "<table border=\"1\" class=\"dataframe\">\n",
       "  <thead>\n",
       "    <tr style=\"text-align: right;\">\n",
       "      <th></th>\n",
       "      <th>age</th>\n",
       "      <th>number_of_children</th>\n",
       "      <th>income</th>\n",
       "    </tr>\n",
       "  </thead>\n",
       "  <tbody>\n",
       "    <tr>\n",
       "      <th>0</th>\n",
       "      <td>42.772420</td>\n",
       "      <td>0</td>\n",
       "      <td>34396.537188</td>\n",
       "    </tr>\n",
       "    <tr>\n",
       "      <th>1</th>\n",
       "      <td>29.561090</td>\n",
       "      <td>0</td>\n",
       "      <td>183350.052521</td>\n",
       "    </tr>\n",
       "    <tr>\n",
       "      <th>2</th>\n",
       "      <td>54.380735</td>\n",
       "      <td>0</td>\n",
       "      <td>53689.856555</td>\n",
       "    </tr>\n",
       "    <tr>\n",
       "      <th>3</th>\n",
       "      <td>42.551689</td>\n",
       "      <td>0</td>\n",
       "      <td>109080.913926</td>\n",
       "    </tr>\n",
       "    <tr>\n",
       "      <th>4</th>\n",
       "      <td>38.713080</td>\n",
       "      <td>0</td>\n",
       "      <td>153612.343419</td>\n",
       "    </tr>\n",
       "    <tr>\n",
       "      <th>...</th>\n",
       "      <td>...</td>\n",
       "      <td>...</td>\n",
       "      <td>...</td>\n",
       "    </tr>\n",
       "    <tr>\n",
       "      <th>995</th>\n",
       "      <td>36.281055</td>\n",
       "      <td>0</td>\n",
       "      <td>128647.922872</td>\n",
       "    </tr>\n",
       "    <tr>\n",
       "      <th>996</th>\n",
       "      <td>18.472716</td>\n",
       "      <td>0</td>\n",
       "      <td>67204.531673</td>\n",
       "    </tr>\n",
       "    <tr>\n",
       "      <th>997</th>\n",
       "      <td>40.547748</td>\n",
       "      <td>0</td>\n",
       "      <td>139432.757984</td>\n",
       "    </tr>\n",
       "    <tr>\n",
       "      <th>998</th>\n",
       "      <td>24.791760</td>\n",
       "      <td>1</td>\n",
       "      <td>137526.452334</td>\n",
       "    </tr>\n",
       "    <tr>\n",
       "      <th>999</th>\n",
       "      <td>46.662848</td>\n",
       "      <td>0</td>\n",
       "      <td>148449.261137</td>\n",
       "    </tr>\n",
       "  </tbody>\n",
       "</table>\n",
       "<p>1000 rows × 3 columns</p>\n",
       "</div>"
      ],
      "text/plain": [
       "           age  number_of_children         income\n",
       "0    42.772420                   0   34396.537188\n",
       "1    29.561090                   0  183350.052521\n",
       "2    54.380735                   0   53689.856555\n",
       "3    42.551689                   0  109080.913926\n",
       "4    38.713080                   0  153612.343419\n",
       "..         ...                 ...            ...\n",
       "995  36.281055                   0  128647.922872\n",
       "996  18.472716                   0   67204.531673\n",
       "997  40.547748                   0  139432.757984\n",
       "998  24.791760                   1  137526.452334\n",
       "999  46.662848                   0  148449.261137\n",
       "\n",
       "[1000 rows x 3 columns]"
      ]
     },
     "execution_count": 15,
     "metadata": {},
     "output_type": "execute_result"
    }
   ],
   "source": [
    "df"
   ]
  },
  {
   "cell_type": "code",
   "execution_count": 19,
   "id": "b16f7c61",
   "metadata": {},
   "outputs": [
    {
     "data": {
      "text/html": [
       "<div>\n",
       "<style scoped>\n",
       "    .dataframe tbody tr th:only-of-type {\n",
       "        vertical-align: middle;\n",
       "    }\n",
       "\n",
       "    .dataframe tbody tr th {\n",
       "        vertical-align: top;\n",
       "    }\n",
       "\n",
       "    .dataframe thead th {\n",
       "        text-align: right;\n",
       "    }\n",
       "</style>\n",
       "<table border=\"1\" class=\"dataframe\">\n",
       "  <thead>\n",
       "    <tr style=\"text-align: right;\">\n",
       "      <th></th>\n",
       "      <th>age</th>\n",
       "      <th>number_of_children</th>\n",
       "      <th>income</th>\n",
       "    </tr>\n",
       "  </thead>\n",
       "  <tbody>\n",
       "    <tr>\n",
       "      <th>0</th>\n",
       "      <td>42.772420</td>\n",
       "      <td>0</td>\n",
       "      <td>34396.537188</td>\n",
       "    </tr>\n",
       "    <tr>\n",
       "      <th>1</th>\n",
       "      <td>29.561090</td>\n",
       "      <td>0</td>\n",
       "      <td>183350.052521</td>\n",
       "    </tr>\n",
       "    <tr>\n",
       "      <th>2</th>\n",
       "      <td>54.380735</td>\n",
       "      <td>0</td>\n",
       "      <td>53689.856555</td>\n",
       "    </tr>\n",
       "    <tr>\n",
       "      <th>3</th>\n",
       "      <td>42.551689</td>\n",
       "      <td>0</td>\n",
       "      <td>109080.913926</td>\n",
       "    </tr>\n",
       "    <tr>\n",
       "      <th>4</th>\n",
       "      <td>38.713080</td>\n",
       "      <td>0</td>\n",
       "      <td>153612.343419</td>\n",
       "    </tr>\n",
       "  </tbody>\n",
       "</table>\n",
       "</div>"
      ],
      "text/plain": [
       "         age  number_of_children         income\n",
       "0  42.772420                   0   34396.537188\n",
       "1  29.561090                   0  183350.052521\n",
       "2  54.380735                   0   53689.856555\n",
       "3  42.551689                   0  109080.913926\n",
       "4  38.713080                   0  153612.343419"
      ]
     },
     "execution_count": 19,
     "metadata": {},
     "output_type": "execute_result"
    }
   ],
   "source": [
    "df.head()"
   ]
  },
  {
   "cell_type": "markdown",
   "id": "850f6f51",
   "metadata": {},
   "source": [
    "Дискретная переменная - Яблоко/Бутылка \"Виноградного дня\"\n",
    "Непрерывная переменная - Вода/\"Виноградный день\"\n",
    "Example: яблоко - дискретная, вода - непрерывная. (Стивен Вольфрам считает что вселенная в итоге дискретна т.к. даже вода ощущается непрерывной, но состоит из мельчайших частей)"
   ]
  },
  {
   "cell_type": "code",
   "execution_count": null,
   "id": "3cffed3d",
   "metadata": {},
   "outputs": [],
   "source": [
    "Посмотрим на кол-во значений столбика с детьми"
   ]
  },
  {
   "cell_type": "code",
   "execution_count": 21,
   "id": "8711353e",
   "metadata": {},
   "outputs": [
    {
     "data": {
      "text/plain": [
       "0    658\n",
       "1    226\n",
       "2     94\n",
       "3     20\n",
       "5      1\n",
       "4      1\n",
       "Name: number_of_children, dtype: int64"
      ]
     },
     "execution_count": 21,
     "metadata": {},
     "output_type": "execute_result"
    }
   ],
   "source": [
    "df['number_of_children'].value_counts()"
   ]
  },
  {
   "cell_type": "markdown",
   "id": "0dbc4e0f",
   "metadata": {},
   "source": [
    "К примеру у нас есть вопрос: \n",
    "    \"Какой % составляют семьи с 2 детьми?\" \n",
    "Отвечаем\n",
    "(би кэрфул, в отличии от sql тут регистры чувствительны)"
   ]
  },
  {
   "cell_type": "code",
   "execution_count": 27,
   "id": "1d0a621c",
   "metadata": {},
   "outputs": [
    {
     "data": {
      "text/plain": [
       "0    0.658\n",
       "1    0.226\n",
       "2    0.094\n",
       "3    0.020\n",
       "5    0.001\n",
       "4    0.001\n",
       "Name: number_of_children, dtype: float64"
      ]
     },
     "execution_count": 27,
     "metadata": {},
     "output_type": "execute_result"
    }
   ],
   "source": [
    "df['number_of_children'].value_counts(normalize=True)"
   ]
  },
  {
   "cell_type": "code",
   "execution_count": null,
   "id": "2b05b7bc",
   "metadata": {},
   "outputs": [],
   "source": [
    "Пробуем визуализировать"
   ]
  },
  {
   "cell_type": "code",
   "execution_count": 28,
   "id": "1922ff93",
   "metadata": {},
   "outputs": [
    {
     "data": {
      "text/plain": [
       "<AxesSubplot:>"
      ]
     },
     "execution_count": 28,
     "metadata": {},
     "output_type": "execute_result"
    },
    {
     "data": {
      "image/png": "[encoded data removed]",
      "text/plain": [
       "<Figure size 432x288 with 1 Axes>"
      ]
     },
     "metadata": {
      "needs_background": "light"
     },
     "output_type": "display_data"
    }
   ],
   "source": [
    "df['number_of_children'].hist()"
   ]
  },
  {
   "cell_type": "markdown",
   "id": "2e02a1d8",
   "metadata": {},
   "source": [
    "Есть чуть приятнее гистограмма в seaborn"
   ]
  },
  {
   "cell_type": "code",
   "execution_count": 29,
   "id": "aef30443",
   "metadata": {},
   "outputs": [],
   "source": [
    "import seaborn as sns"
   ]
  },
  {
   "cell_type": "code",
   "execution_count": 30,
   "id": "8ea0e4b2",
   "metadata": {},
   "outputs": [
    {
     "data": {
      "text/plain": [
       "<AxesSubplot:xlabel='number_of_children', ylabel='Count'>"
      ]
     },
     "execution_count": 30,
     "metadata": {},
     "output_type": "execute_result"
    },
    {
     "data": {
      "image/png": "[encoded data removed]",
      "text/plain": [
       "<Figure size 432x288 with 1 Axes>"
      ]
     },
     "metadata": {
      "needs_background": "light"
     },
     "output_type": "display_data"
    }
   ],
   "source": [
    "sns.histplot(df['number_of_children'])"
   ]
  },
  {
   "cell_type": "code",
   "execution_count": null,
   "id": "aa4af2e5",
   "metadata": {},
   "outputs": [],
   "source": [
    "Пробуем посмотреть не в кол-ве, а в %"
   ]
  },
  {
   "cell_type": "code",
   "execution_count": 31,
   "id": "cfa4de73",
   "metadata": {},
   "outputs": [
    {
     "data": {
      "text/plain": [
       "<AxesSubplot:xlabel='number_of_children', ylabel='Probability'>"
      ]
     },
     "execution_count": 31,
     "metadata": {},
     "output_type": "execute_result"
    },
    {
     "data": {
      "image/png": "[encoded data removed]",
      "text/plain": [
       "<Figure size 432x288 with 1 Axes>"
      ]
     },
     "metadata": {
      "needs_background": "light"
     },
     "output_type": "display_data"
    }
   ],
   "source": [
    "sns.histplot(df['number_of_children'],stat='probability')"
   ]
  },
  {
   "cell_type": "code",
   "execution_count": 32,
   "id": "cef307aa",
   "metadata": {},
   "outputs": [
    {
     "data": {
      "text/plain": [
       "42.772420    1\n",
       "29.524914    1\n",
       "23.576408    1\n",
       "40.563444    1\n",
       "41.557756    1\n",
       "            ..\n",
       "63.789406    1\n",
       "27.576455    1\n",
       "28.502233    1\n",
       "30.699148    1\n",
       "46.662848    1\n",
       "Name: age, Length: 1000, dtype: int64"
      ]
     },
     "execution_count": 32,
     "metadata": {},
     "output_type": "execute_result"
    }
   ],
   "source": [
    "df['age'].value_counts()"
   ]
  },
  {
   "cell_type": "markdown",
   "id": "6e63d294",
   "metadata": {},
   "source": [
    "Проблема - не группируется возраст из-за уникальности (округление), попробуем прикинуть знакомой гистограммой  "
   ]
  },
  {
   "cell_type": "code",
   "execution_count": 33,
   "id": "ba7307af",
   "metadata": {},
   "outputs": [
    {
     "data": {
      "text/plain": [
       "<AxesSubplot:xlabel='age', ylabel='Count'>"
      ]
     },
     "execution_count": 33,
     "metadata": {},
     "output_type": "execute_result"
    },
    {
     "data": {
      "image/png": "[encoded data removed]",
      "text/plain": [
       "<Figure size 432x288 with 1 Axes>"
      ]
     },
     "metadata": {
      "needs_background": "light"
     },
     "output_type": "display_data"
    }
   ],
   "source": [
    "sns.histplot(df['age'])"
   ]
  },
  {
   "cell_type": "code",
   "execution_count": 35,
   "id": "31fae0f8",
   "metadata": {},
   "outputs": [],
   "source": [
    "df['age_bin'] = pd.cut(df['age'],10)"
   ]
  },
  {
   "cell_type": "code",
   "execution_count": 37,
   "id": "30f74526",
   "metadata": {},
   "outputs": [
    {
     "data": {
      "text/plain": [
       "age_bin\n",
       "(17.402, 22.107]     49\n",
       "(22.107, 26.766]    124\n",
       "(26.766, 31.425]    140\n",
       "(31.425, 36.084]    134\n",
       "(36.084, 40.743]    131\n",
       "(40.743, 45.401]    141\n",
       "(45.401, 50.06]     101\n",
       "(50.06, 54.719]     121\n",
       "(54.719, 59.378]     50\n",
       "(59.378, 64.037]      9\n",
       "Name: age, dtype: int64"
      ]
     },
     "execution_count": 37,
     "metadata": {},
     "output_type": "execute_result"
    }
   ],
   "source": [
    "df.groupby('age_bin')['age'].count()"
   ]
  },
  {
   "cell_type": "markdown",
   "id": "462099ad",
   "metadata": {},
   "source": [
    "(разделили на 10 групп по возрасту и сохранили это в 'age_bin')"
   ]
  },
  {
   "cell_type": "markdown",
   "id": "8a7fa13f",
   "metadata": {},
   "source": [
    "# Среднее"
   ]
  },
  {
   "cell_type": "code",
   "execution_count": 39,
   "id": "35ce8c4f",
   "metadata": {},
   "outputs": [
    {
     "data": {
      "text/html": [
       "<div>\n",
       "<style scoped>\n",
       "    .dataframe tbody tr th:only-of-type {\n",
       "        vertical-align: middle;\n",
       "    }\n",
       "\n",
       "    .dataframe tbody tr th {\n",
       "        vertical-align: top;\n",
       "    }\n",
       "\n",
       "    .dataframe thead th {\n",
       "        text-align: right;\n",
       "    }\n",
       "</style>\n",
       "<table border=\"1\" class=\"dataframe\">\n",
       "  <thead>\n",
       "    <tr style=\"text-align: right;\">\n",
       "      <th></th>\n",
       "      <th>age</th>\n",
       "      <th>number_of_children</th>\n",
       "      <th>income</th>\n",
       "      <th>age_bin</th>\n",
       "    </tr>\n",
       "  </thead>\n",
       "  <tbody>\n",
       "    <tr>\n",
       "      <th>0</th>\n",
       "      <td>42.772420</td>\n",
       "      <td>0</td>\n",
       "      <td>34396.537188</td>\n",
       "      <td>(40.743, 45.401]</td>\n",
       "    </tr>\n",
       "    <tr>\n",
       "      <th>1</th>\n",
       "      <td>29.561090</td>\n",
       "      <td>0</td>\n",
       "      <td>183350.052521</td>\n",
       "      <td>(26.766, 31.425]</td>\n",
       "    </tr>\n",
       "    <tr>\n",
       "      <th>2</th>\n",
       "      <td>54.380735</td>\n",
       "      <td>0</td>\n",
       "      <td>53689.856555</td>\n",
       "      <td>(50.06, 54.719]</td>\n",
       "    </tr>\n",
       "    <tr>\n",
       "      <th>3</th>\n",
       "      <td>42.551689</td>\n",
       "      <td>0</td>\n",
       "      <td>109080.913926</td>\n",
       "      <td>(40.743, 45.401]</td>\n",
       "    </tr>\n",
       "    <tr>\n",
       "      <th>4</th>\n",
       "      <td>38.713080</td>\n",
       "      <td>0</td>\n",
       "      <td>153612.343419</td>\n",
       "      <td>(36.084, 40.743]</td>\n",
       "    </tr>\n",
       "  </tbody>\n",
       "</table>\n",
       "</div>"
      ],
      "text/plain": [
       "         age  number_of_children         income           age_bin\n",
       "0  42.772420                   0   34396.537188  (40.743, 45.401]\n",
       "1  29.561090                   0  183350.052521  (26.766, 31.425]\n",
       "2  54.380735                   0   53689.856555   (50.06, 54.719]\n",
       "3  42.551689                   0  109080.913926  (40.743, 45.401]\n",
       "4  38.713080                   0  153612.343419  (36.084, 40.743]"
      ]
     },
     "execution_count": 39,
     "metadata": {},
     "output_type": "execute_result"
    }
   ],
   "source": [
    "df.head()"
   ]
  },
  {
   "cell_type": "code",
   "execution_count": 40,
   "id": "45f2ef43",
   "metadata": {},
   "outputs": [
    {
     "data": {
      "text/plain": [
       "0.483"
      ]
     },
     "execution_count": 40,
     "metadata": {},
     "output_type": "execute_result"
    }
   ],
   "source": [
    "df['number_of_children'].mean()"
   ]
  },
  {
   "cell_type": "markdown",
   "id": "63442a6f",
   "metadata": {},
   "source": [
    "*когда считаем среднее - 0.5 ребенка это не уголовное преступление, идем дальше"
   ]
  },
  {
   "cell_type": "code",
   "execution_count": 41,
   "id": "f0b4c8d0",
   "metadata": {},
   "outputs": [
    {
     "data": {
      "text/plain": [
       "38.31925590719964"
      ]
     },
     "execution_count": 41,
     "metadata": {},
     "output_type": "execute_result"
    }
   ],
   "source": [
    "df['age'].mean()"
   ]
  },
  {
   "cell_type": "markdown",
   "id": "3b103be5",
   "metadata": {},
   "source": [
    "Можем сразу по всем столбикам увидеть среднюю (помним что Среднее это просто сумма)"
   ]
  },
  {
   "cell_type": "code",
   "execution_count": 48,
   "id": "d25ca67d",
   "metadata": {},
   "outputs": [
    {
     "name": "stderr",
     "output_type": "stream",
     "text": [
      "C:\\Users\\Ilya\\AppData\\Local\\Temp/ipykernel_12596/3698961737.py:1: FutureWarning: Dropping of nuisance columns in DataFrame reductions (with 'numeric_only=None') is deprecated; in a future version this will raise TypeError.  Select only valid columns before calling the reduction.\n",
      "  df.mean()\n"
     ]
    },
    {
     "data": {
      "text/plain": [
       "age                       38.319256\n",
       "number_of_children         0.483000\n",
       "income                129415.746378\n",
       "dtype: float64"
      ]
     },
     "execution_count": 48,
     "metadata": {},
     "output_type": "execute_result"
    }
   ],
   "source": [
    "df.mean()"
   ]
  },
  {
   "cell_type": "markdown",
   "id": "2934ac69",
   "metadata": {},
   "source": [
    "Понимаем что df.mean() работает только со столбцами, которые содержат числа, корректируем"
   ]
  },
  {
   "cell_type": "code",
   "execution_count": 49,
   "id": "d11e3c50",
   "metadata": {},
   "outputs": [
    {
     "name": "stdout",
     "output_type": "stream",
     "text": [
      "age                       38.319256\n",
      "number_of_children         0.483000\n",
      "income                129415.746378\n",
      "dtype: float64\n"
     ]
    }
   ],
   "source": [
    "print(df.mean(numeric_only=True))"
   ]
  },
  {
   "cell_type": "markdown",
   "id": "1dd4c6b1",
   "metadata": {},
   "source": [
    "Для удобства можем переименовать и найти среднюю зп"
   ]
  },
  {
   "cell_type": "code",
   "execution_count": 55,
   "id": "f907e83c",
   "metadata": {},
   "outputs": [],
   "source": [
    "salary = df['income']"
   ]
  },
  {
   "cell_type": "code",
   "execution_count": 56,
   "id": "77dbb6a5",
   "metadata": {},
   "outputs": [
    {
     "data": {
      "text/plain": [
       "129415.7463784342"
      ]
     },
     "execution_count": 56,
     "metadata": {},
     "output_type": "execute_result"
    }
   ],
   "source": [
    "salary.mean()"
   ]
  },
  {
   "cell_type": "code",
   "execution_count": 57,
   "id": "b7b31502",
   "metadata": {},
   "outputs": [
    {
     "data": {
      "text/plain": [
       "<AxesSubplot:>"
      ]
     },
     "execution_count": 57,
     "metadata": {},
     "output_type": "execute_result"
    },
    {
     "data": {
      "image/png": "[encoded data removed]",
      "text/plain": [
       "<Figure size 432x288 with 1 Axes>"
      ]
     },
     "metadata": {
      "needs_background": "light"
     },
     "output_type": "display_data"
    }
   ],
   "source": [
    "salary.hist()"
   ]
  },
  {
   "cell_type": "markdown",
   "id": "54606dd1",
   "metadata": {},
   "source": [
    "Далее можем найти медиану (середину ряда зарплат)"
   ]
  },
  {
   "cell_type": "code",
   "execution_count": 58,
   "id": "262e9658",
   "metadata": {},
   "outputs": [
    {
     "data": {
      "text/plain": [
       "114586.57093898312"
      ]
     },
     "execution_count": 58,
     "metadata": {},
     "output_type": "execute_result"
    }
   ],
   "source": [
    "salary.median()"
   ]
  },
  {
   "cell_type": "code",
   "execution_count": 60,
   "id": "31f6b86a",
   "metadata": {},
   "outputs": [
    {
     "data": {
      "text/plain": [
       "114     21943.855414\n",
       "48      26320.953693\n",
       "14      27301.351517\n",
       "15      29523.164624\n",
       "358     29712.057360\n",
       "           ...      \n",
       "909    428777.784061\n",
       "248    491195.235363\n",
       "946    545111.059268\n",
       "520    554169.647700\n",
       "646    678006.351857\n",
       "Name: income, Length: 1000, dtype: float64"
      ]
     },
     "execution_count": 60,
     "metadata": {},
     "output_type": "execute_result"
    }
   ],
   "source": [
    "salary.sort_values()"
   ]
  },
  {
   "cell_type": "code",
   "execution_count": 66,
   "id": "0735bf37",
   "metadata": {},
   "outputs": [
    {
     "data": {
      "text/plain": [
       "0.5"
      ]
     },
     "execution_count": 66,
     "metadata": {},
     "output_type": "execute_result"
    }
   ],
   "source": [
    "(salary <= 114587).mean().round(1)"
   ]
  },
  {
   "cell_type": "markdown",
   "id": "851bb28b",
   "metadata": {},
   "source": [
    "И так, 50% зп из выборки меньше медианы, окей.\n",
    "Теперь посмотрим моду"
   ]
  },
  {
   "cell_type": "code",
   "execution_count": 67,
   "id": "481cada2",
   "metadata": {},
   "outputs": [
    {
     "data": {
      "text/plain": [
       "0    0\n",
       "dtype: int64"
      ]
     },
     "execution_count": 67,
     "metadata": {},
     "output_type": "execute_result"
    }
   ],
   "source": [
    "df['number_of_children'].mode()"
   ]
  },
  {
   "cell_type": "markdown",
   "id": "b6fa4e1e",
   "metadata": {},
   "source": [
    "Вывод: модно не иметь детей, отлично\n",
    "Моду по возрасту так не сможем найти т.к. значения в виде %%.%%%% (ориентируемся на гистрограмму)"
   ]
  },
  {
   "cell_type": "code",
   "execution_count": 72,
   "id": "dd36c1e1",
   "metadata": {},
   "outputs": [
    {
     "data": {
      "text/plain": [
       "0      17.448452\n",
       "1      17.945699\n",
       "2      18.221844\n",
       "3      18.245730\n",
       "4      18.327301\n",
       "         ...    \n",
       "995    60.340166\n",
       "996    60.649527\n",
       "997    61.924505\n",
       "998    63.789406\n",
       "999    64.036559\n",
       "Length: 1000, dtype: float64"
      ]
     },
     "execution_count": 72,
     "metadata": {},
     "output_type": "execute_result"
    }
   ],
   "source": [
    "df['age'].mode()"
   ]
  },
  {
   "cell_type": "code",
   "execution_count": 73,
   "id": "e9ebdba1",
   "metadata": {},
   "outputs": [
    {
     "data": {
      "text/plain": [
       "<AxesSubplot:>"
      ]
     },
     "execution_count": 73,
     "metadata": {},
     "output_type": "execute_result"
    },
    {
     "data": {
      "image/png": "[encoded data removed]",
      "text/plain": [
       "<Figure size 432x288 with 1 Axes>"
      ]
     },
     "metadata": {
      "needs_background": "light"
     },
     "output_type": "display_data"
    }
   ],
   "source": [
    "df['income'].hist()"
   ]
  },
  {
   "cell_type": "code",
   "execution_count": 74,
   "id": "e468c1b4",
   "metadata": {},
   "outputs": [
    {
     "data": {
      "text/plain": [
       "0       True\n",
       "1      False\n",
       "2       True\n",
       "3       True\n",
       "4      False\n",
       "       ...  \n",
       "995    False\n",
       "996     True\n",
       "997    False\n",
       "998    False\n",
       "999    False\n",
       "Name: income, Length: 1000, dtype: bool"
      ]
     },
     "execution_count": 74,
     "metadata": {},
     "output_type": "execute_result"
    }
   ],
   "source": [
    "df['income'] < 114587"
   ]
  },
  {
   "cell_type": "code",
   "execution_count": 75,
   "id": "05d7abb9",
   "metadata": {},
   "outputs": [
    {
     "data": {
      "text/plain": [
       "0.5"
      ]
     },
     "execution_count": 75,
     "metadata": {},
     "output_type": "execute_result"
    }
   ],
   "source": [
    "(df['income'] < 114587).mean()"
   ]
  },
  {
   "cell_type": "markdown",
   "id": "f292ab49",
   "metadata": {},
   "source": [
    "Что произошло? Мы руками отсортировали id, которые ниже медианы в 114'587 руб.\n",
    "Далее нашли их %\n",
    "(Пользуемся тем, что True = 1 \n",
    "                     False = 0\n",
    "                     )"
   ]
  },
  {
   "cell_type": "code",
   "execution_count": 78,
   "id": "939770a7",
   "metadata": {},
   "outputs": [
    {
     "data": {
      "text/plain": [
       "1"
      ]
     },
     "execution_count": 78,
     "metadata": {},
     "output_type": "execute_result"
    }
   ],
   "source": [
    "False + True"
   ]
  },
  {
   "cell_type": "code",
   "execution_count": 79,
   "id": "3d5ee8b9",
   "metadata": {},
   "outputs": [
    {
     "data": {
      "text/plain": [
       "0"
      ]
     },
     "execution_count": 79,
     "metadata": {},
     "output_type": "execute_result"
    }
   ],
   "source": [
    "False + False"
   ]
  },
  {
   "cell_type": "code",
   "execution_count": 80,
   "id": "5b0df1f7",
   "metadata": {},
   "outputs": [
    {
     "data": {
      "text/plain": [
       "0.397"
      ]
     },
     "execution_count": 80,
     "metadata": {},
     "output_type": "execute_result"
    }
   ],
   "source": [
    "(df['income'] < 100000).mean()"
   ]
  },
  {
   "cell_type": "markdown",
   "id": "43cf426d",
   "metadata": {},
   "source": [
    "И так, переходим к терминам:\n",
    "Квантиль 0,4 = значение которое отсекает 40% выборки\n",
    "Процентиль = Процентиль * 100\n",
    "Квартиль (четверти квантилей = 0.25;0.5;0.75)"
   ]
  },
  {
   "cell_type": "code",
   "execution_count": 83,
   "id": "70bdb3f3",
   "metadata": {},
   "outputs": [
    {
     "data": {
      "text/plain": [
       "58377.17440989983"
      ]
     },
     "execution_count": 83,
     "metadata": {},
     "output_type": "execute_result"
    }
   ],
   "source": [
    "df['income'].quantile(0.1)"
   ]
  },
  {
   "cell_type": "markdown",
   "id": "9e6b171c",
   "metadata": {},
   "source": [
    "У 10% зарплата меньше чем 58к"
   ]
  },
  {
   "cell_type": "code",
   "execution_count": 85,
   "id": "cfb43147",
   "metadata": {},
   "outputs": [],
   "source": [
    " df['pct'] = df['age'].rank(pct=True)"
   ]
  },
  {
   "cell_type": "code",
   "execution_count": 86,
   "id": "70d5efde",
   "metadata": {},
   "outputs": [
    {
     "data": {
      "text/html": [
       "<div>\n",
       "<style scoped>\n",
       "    .dataframe tbody tr th:only-of-type {\n",
       "        vertical-align: middle;\n",
       "    }\n",
       "\n",
       "    .dataframe tbody tr th {\n",
       "        vertical-align: top;\n",
       "    }\n",
       "\n",
       "    .dataframe thead th {\n",
       "        text-align: right;\n",
       "    }\n",
       "</style>\n",
       "<table border=\"1\" class=\"dataframe\">\n",
       "  <thead>\n",
       "    <tr style=\"text-align: right;\">\n",
       "      <th></th>\n",
       "      <th>age</th>\n",
       "      <th>number_of_children</th>\n",
       "      <th>income</th>\n",
       "      <th>age_bin</th>\n",
       "      <th>pct</th>\n",
       "    </tr>\n",
       "  </thead>\n",
       "  <tbody>\n",
       "    <tr>\n",
       "      <th>0</th>\n",
       "      <td>42.772420</td>\n",
       "      <td>0</td>\n",
       "      <td>34396.537188</td>\n",
       "      <td>(40.743, 45.401]</td>\n",
       "      <td>0.639</td>\n",
       "    </tr>\n",
       "    <tr>\n",
       "      <th>1</th>\n",
       "      <td>29.561090</td>\n",
       "      <td>0</td>\n",
       "      <td>183350.052521</td>\n",
       "      <td>(26.766, 31.425]</td>\n",
       "      <td>0.257</td>\n",
       "    </tr>\n",
       "    <tr>\n",
       "      <th>2</th>\n",
       "      <td>54.380735</td>\n",
       "      <td>0</td>\n",
       "      <td>53689.856555</td>\n",
       "      <td>(50.06, 54.719]</td>\n",
       "      <td>0.936</td>\n",
       "    </tr>\n",
       "    <tr>\n",
       "      <th>3</th>\n",
       "      <td>42.551689</td>\n",
       "      <td>0</td>\n",
       "      <td>109080.913926</td>\n",
       "      <td>(40.743, 45.401]</td>\n",
       "      <td>0.634</td>\n",
       "    </tr>\n",
       "    <tr>\n",
       "      <th>4</th>\n",
       "      <td>38.713080</td>\n",
       "      <td>0</td>\n",
       "      <td>153612.343419</td>\n",
       "      <td>(36.084, 40.743]</td>\n",
       "      <td>0.521</td>\n",
       "    </tr>\n",
       "  </tbody>\n",
       "</table>\n",
       "</div>"
      ],
      "text/plain": [
       "         age  number_of_children         income           age_bin    pct\n",
       "0  42.772420                   0   34396.537188  (40.743, 45.401]  0.639\n",
       "1  29.561090                   0  183350.052521  (26.766, 31.425]  0.257\n",
       "2  54.380735                   0   53689.856555   (50.06, 54.719]  0.936\n",
       "3  42.551689                   0  109080.913926  (40.743, 45.401]  0.634\n",
       "4  38.713080                   0  153612.343419  (36.084, 40.743]  0.521"
      ]
     },
     "execution_count": 86,
     "metadata": {},
     "output_type": "execute_result"
    }
   ],
   "source": [
    "df.head()"
   ]
  },
  {
   "cell_type": "code",
   "execution_count": 87,
   "id": "5d07f7e6",
   "metadata": {},
   "outputs": [
    {
     "data": {
      "text/plain": [
       "0.638"
      ]
     },
     "execution_count": 87,
     "metadata": {},
     "output_type": "execute_result"
    }
   ],
   "source": [
    "(df['age'] < 42.77242).mean()"
   ]
  },
  {
   "cell_type": "markdown",
   "id": "085cec21",
   "metadata": {},
   "source": [
    "Seems legit, mkay"
   ]
  },
  {
   "cell_type": "markdown",
   "id": "89bfe141",
   "metadata": {},
   "source": [
    "# Boxplot aka коробка с усами"
   ]
  },
  {
   "cell_type": "code",
   "execution_count": 88,
   "id": "100cd6f1",
   "metadata": {},
   "outputs": [
    {
     "data": {
      "text/plain": [
       "<AxesSubplot:>"
      ]
     },
     "execution_count": 88,
     "metadata": {},
     "output_type": "execute_result"
    },
    {
     "data": {
      "image/png": "[encoded data removed]",
      "text/plain": [
       "<Figure size 432x288 with 1 Axes>"
      ]
     },
     "metadata": {
      "needs_background": "light"
     },
     "output_type": "display_data"
    }
   ],
   "source": [
    "df.boxplot('age')"
   ]
  },
  {
   "cell_type": "markdown",
   "id": "10c303b8",
   "metadata": {},
   "source": [
    "Межквартильный размах - расстояние между 1 и 3 квартилем\n",
    "Боксплоты удобные для симметричных распределений, сейчас убедимся"
   ]
  },
  {
   "cell_type": "code",
   "execution_count": 89,
   "id": "788c4761",
   "metadata": {},
   "outputs": [
    {
     "data": {
      "text/plain": [
       "<AxesSubplot:>"
      ]
     },
     "execution_count": 89,
     "metadata": {},
     "output_type": "execute_result"
    },
    {
     "data": {
      "image/png": "[encoded data removed]",
      "text/plain": [
       "<Figure size 432x288 with 1 Axes>"
      ]
     },
     "metadata": {
      "needs_background": "light"
     },
     "output_type": "display_data"
    }
   ],
   "source": [
    "df.boxplot('income')"
   ]
  },
  {
   "cell_type": "markdown",
   "id": "6046c051",
   "metadata": {},
   "source": [
    "Убедились, а ещё можно перевернуть боксплот ( sns.boxplot(df['income']) )"
   ]
  },
  {
   "cell_type": "code",
   "execution_count": 96,
   "id": "f28bb275",
   "metadata": {},
   "outputs": [
    {
     "data": {
      "text/plain": [
       "count      1000.000000\n",
       "mean     129415.746378\n",
       "std       71251.620971\n",
       "min       21943.855414\n",
       "25%       79594.040400\n",
       "50%      114586.570939\n",
       "75%      162888.891081\n",
       "max      678006.351857\n",
       "Name: income, dtype: float64"
      ]
     },
     "execution_count": 96,
     "metadata": {},
     "output_type": "execute_result"
    }
   ],
   "source": [
    "df['income'].describe()"
   ]
  },
  {
   "cell_type": "markdown",
   "id": "fade3bcb",
   "metadata": {},
   "source": [
    "std - Стандартное отклонение (в практике ваще не нужно, используем вместо него MinAbsoluteDeviation)\n",
    "HowToCalculate? Берем среднее и считаем отклонение каждого значения от среднего"
   ]
  },
  {
   "cell_type": "code",
   "execution_count": 97,
   "id": "7e02eeb9",
   "metadata": {},
   "outputs": [
    {
     "data": {
      "text/plain": [
       "129415.7463784342"
      ]
     },
     "execution_count": 97,
     "metadata": {},
     "output_type": "execute_result"
    }
   ],
   "source": [
    "df['income'].mean()"
   ]
  },
  {
   "cell_type": "code",
   "execution_count": 100,
   "id": "6251ab86",
   "metadata": {},
   "outputs": [
    {
     "data": {
      "text/plain": [
       "<AxesSubplot:>"
      ]
     },
     "execution_count": 100,
     "metadata": {},
     "output_type": "execute_result"
    },
    {
     "data": {
      "image/png": "[encoded data removed]",
      "text/plain": [
       "<Figure size 432x288 with 1 Axes>"
      ]
     },
     "metadata": {
      "needs_background": "light"
     },
     "output_type": "display_data"
    }
   ],
   "source": [
    "(df['income'] - df['income'].mean()).hist()"
   ]
  },
  {
   "cell_type": "code",
   "execution_count": 104,
   "id": "e88dfa9f",
   "metadata": {
    "scrolled": true
   },
   "outputs": [
    {
     "data": {
      "text/plain": [
       "51910.29730549477"
      ]
     },
     "execution_count": 104,
     "metadata": {},
     "output_type": "execute_result"
    }
   ],
   "source": [
    "(df['income'] - df['income'].mean()).abs().mean()"
   ]
  },
  {
   "cell_type": "code",
   "execution_count": 106,
   "id": "702724f9",
   "metadata": {},
   "outputs": [
    {
     "data": {
      "text/html": [
       "<div>\n",
       "<style scoped>\n",
       "    .dataframe tbody tr th:only-of-type {\n",
       "        vertical-align: middle;\n",
       "    }\n",
       "\n",
       "    .dataframe tbody tr th {\n",
       "        vertical-align: top;\n",
       "    }\n",
       "\n",
       "    .dataframe thead th {\n",
       "        text-align: right;\n",
       "    }\n",
       "</style>\n",
       "<table border=\"1\" class=\"dataframe\">\n",
       "  <thead>\n",
       "    <tr style=\"text-align: right;\">\n",
       "      <th></th>\n",
       "      <th>income</th>\n",
       "      <th>age</th>\n",
       "    </tr>\n",
       "  </thead>\n",
       "  <tbody>\n",
       "    <tr>\n",
       "      <th>income</th>\n",
       "      <td>1.000000</td>\n",
       "      <td>-0.048164</td>\n",
       "    </tr>\n",
       "    <tr>\n",
       "      <th>age</th>\n",
       "      <td>-0.048164</td>\n",
       "      <td>1.000000</td>\n",
       "    </tr>\n",
       "  </tbody>\n",
       "</table>\n",
       "</div>"
      ],
      "text/plain": [
       "          income       age\n",
       "income  1.000000 -0.048164\n",
       "age    -0.048164  1.000000"
      ]
     },
     "execution_count": 106,
     "metadata": {},
     "output_type": "execute_result"
    }
   ],
   "source": [
    "df[['income','age']].corr()"
   ]
  },
  {
   "cell_type": "markdown",
   "id": "f2354fa9",
   "metadata": {},
   "source": [
    "Корреляция между доходом и возрастом практически 0, и нам эта цифра ни о чем не говорит\n",
    "Если есть набор линейно связанных переменных и нужно найти самую сильную взаимосвязь - рисуем корреляцию, в остальном - нет \n",
    "Попробуем посмотреть на сводник"
   ]
  },
  {
   "cell_type": "code",
   "execution_count": 111,
   "id": "d1966721",
   "metadata": {},
   "outputs": [
    {
     "data": {
      "text/plain": [
       "<AxesSubplot:xlabel='age_bin'>"
      ]
     },
     "execution_count": 111,
     "metadata": {},
     "output_type": "execute_result"
    },
    {
     "data": {
      "image/png": "[encoded data removed]",
      "text/plain": [
       "<Figure size 432x288 with 1 Axes>"
      ]
     },
     "metadata": {
      "needs_background": "light"
     },
     "output_type": "display_data"
    }
   ],
   "source": [
    "df.groupby('age_bin')['income'].median().plot(rot=45, ylim=0)"
   ]
  },
  {
   "cell_type": "code",
   "execution_count": 112,
   "id": "7bc49dfa",
   "metadata": {},
   "outputs": [
    {
     "data": {
      "text/plain": [
       "<AxesSubplot:xlabel='age'>"
      ]
     },
     "execution_count": 112,
     "metadata": {},
     "output_type": "execute_result"
    },
    {
     "data": {
      "image/png": "[encoded data removed]",
      "text/plain": [
       "<Figure size 432x288 with 1 Axes>"
      ]
     },
     "metadata": {
      "needs_background": "light"
     },
     "output_type": "display_data"
    }
   ],
   "source": [
    "df.plot(x='age', y='income')"
   ]
  },
  {
   "cell_type": "code",
   "execution_count": null,
   "id": "f055a97e",
   "metadata": {},
   "outputs": [],
   "source": [
    "(делаем scatter)"
   ]
  },
  {
   "cell_type": "code",
   "execution_count": 113,
   "id": "a446cb76",
   "metadata": {},
   "outputs": [
    {
     "data": {
      "text/plain": [
       "<AxesSubplot:xlabel='age', ylabel='income'>"
      ]
     },
     "execution_count": 113,
     "metadata": {},
     "output_type": "execute_result"
    },
    {
     "data": {
      "image/png": "[encoded data removed]",
      "text/plain": [
       "<Figure size 432x288 with 1 Axes>"
      ]
     },
     "metadata": {
      "needs_background": "light"
     },
     "output_type": "display_data"
    }
   ],
   "source": [
    "df.plot(x='age', y='income',kind='scatter')"
   ]
  },
  {
   "cell_type": "code",
   "execution_count": null,
   "id": "969ca1c4",
   "metadata": {},
   "outputs": [],
   "source": []
  }
 ],
 "metadata": {
  "kernelspec": {
   "display_name": "Python 3 (ipykernel)",
   "language": "python",
   "name": "python3"
  },
  "language_info": {
   "codemirror_mode": {
    "name": "ipython",
    "version": 3
   },
   "file_extension": ".py",
   "mimetype": "text/x-python",
   "name": "python",
   "nbconvert_exporter": "python",
   "pygments_lexer": "ipython3",
   "version": "3.9.7"
  }
 },
 "nbformat": 4,
 "nbformat_minor": 5
}
