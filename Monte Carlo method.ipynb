{
 "cells": [
  {
   "cell_type": "code",
   "execution_count": 1,
   "id": "2688597d",
   "metadata": {},
   "outputs": [],
   "source": [
    "import pandas as pd\n",
    "import numpy as np"
   ]
  },
  {
   "cell_type": "code",
   "execution_count": null,
   "id": "8ec4de88",
   "metadata": {},
   "outputs": [],
   "source": [
    "Задача: посчитать вероятность выпадения монетки двумя орлами с помощью Монте-Карло"
   ]
  },
  {
   "cell_type": "code",
   "execution_count": 26,
   "id": "53561652",
   "metadata": {},
   "outputs": [
    {
     "data": {
      "text/plain": [
       "array([0, 1])"
      ]
     },
     "execution_count": 26,
     "metadata": {},
     "output_type": "execute_result"
    }
   ],
   "source": [
    "np.random.binomial(1,0.5,size=2)"
   ]
  },
  {
   "cell_type": "code",
   "execution_count": 27,
   "id": "d9fe12a8",
   "metadata": {},
   "outputs": [
    {
     "data": {
      "text/plain": [
       "1"
      ]
     },
     "execution_count": 27,
     "metadata": {},
     "output_type": "execute_result"
    }
   ],
   "source": [
    "np.random.binomial(1,0.5,size=2).sum()"
   ]
  },
  {
   "cell_type": "code",
   "execution_count": null,
   "id": "1dc7a1eb",
   "metadata": {},
   "outputs": [],
   "source": [
    "Запустим ряд подбрасываний и проанализируем"
   ]
  },
  {
   "cell_type": "code",
   "execution_count": 29,
   "id": "3292fff9",
   "metadata": {},
   "outputs": [],
   "source": [
    "n = 1000\n",
    "result = []\n",
    "for _ in range(n):\n",
    "    result.append(np.random.binomial(1,0.5,size=2).sum())"
   ]
  },
  {
   "cell_type": "code",
   "execution_count": 30,
   "id": "0c83bb74",
   "metadata": {},
   "outputs": [
    {
     "data": {
      "text/plain": [
       "[0, 1, 1, 2, 1, 0, 1, 2, 0, 1]"
      ]
     },
     "execution_count": 30,
     "metadata": {},
     "output_type": "execute_result"
    }
   ],
   "source": [
    "result[:10]"
   ]
  },
  {
   "cell_type": "code",
   "execution_count": 33,
   "id": "912883cb",
   "metadata": {},
   "outputs": [
    {
     "data": {
      "text/plain": [
       "1    0.495\n",
       "0    0.254\n",
       "2    0.251\n",
       "dtype: float64"
      ]
     },
     "execution_count": 33,
     "metadata": {},
     "output_type": "execute_result"
    }
   ],
   "source": [
    "pd.Series(result).value_counts(normalize=True)"
   ]
  },
  {
   "cell_type": "code",
   "execution_count": null,
   "id": "56ca5167",
   "metadata": {},
   "outputs": [],
   "source": [
    "Итог - 25%"
   ]
  }
 ],
 "metadata": {
  "kernelspec": {
   "display_name": "Python 3 (ipykernel)",
   "language": "python",
   "name": "python3"
  },
  "language_info": {
   "codemirror_mode": {
    "name": "ipython",
    "version": 3
   },
   "file_extension": ".py",
   "mimetype": "text/x-python",
   "name": "python",
   "nbconvert_exporter": "python",
   "pygments_lexer": "ipython3",
   "version": "3.9.7"
  }
 },
 "nbformat": 4,
 "nbformat_minor": 5
}
